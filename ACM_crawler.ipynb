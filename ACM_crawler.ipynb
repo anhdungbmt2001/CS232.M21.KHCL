{
  "nbformat": 4,
  "nbformat_minor": 0,
  "metadata": {
    "colab": {
      "name": "ACM_crawler.ipynb",
      "provenance": [],
      "collapsed_sections": [],
      "authorship_tag": "ABX9TyMSy59P4powzQ61rEnMvVCj"
    },
    "kernelspec": {
      "name": "python3",
      "display_name": "Python 3"
    },
    "language_info": {
      "name": "python"
    }
  },
  "cells": [
    {
      "cell_type": "code",
      "execution_count": null,
      "metadata": {
        "id": "YoEMzy3VEFcp"
      },
      "outputs": [],
      "source": [
        "from urllib.request import Request, urlopen\n",
        "from bs4 import BeautifulSoup"
      ]
    },
    {
      "cell_type": "code",
      "source": [
        "title_, link_ = [], []\n",
        "\n",
        "url = 'https://dl.acm.org/profile/81392602249/publications?Role=author'\n",
        "req = Request(url, headers={'User-Agent': 'Mozilla/5.0'})\n",
        "html = urlopen(req)\n",
        "soup = BeautifulSoup(html, 'html')"
      ],
      "metadata": {
        "id": "2Pas5OdgbE7z"
      },
      "execution_count": null,
      "outputs": []
    },
    {
      "cell_type": "code",
      "source": [
        "for i in soup.find_all(class_='issue-item__title'):\n",
        "    title_.append(i.text)\n",
        "    link_.append('https://dl.acm.org' + i.find_next('a').get('href'))"
      ],
      "metadata": {
        "id": "kw61TvVXwvAC"
      },
      "execution_count": null,
      "outputs": []
    },
    {
      "cell_type": "code",
      "source": [
        "title_"
      ],
      "metadata": {
        "colab": {
          "base_uri": "https://localhost:8080/"
        },
        "id": "BH5Rs94-JkoT",
        "outputId": "965dd9f2-8a09-47bc-eb84-366723192b61"
      },
      "execution_count": null,
      "outputs": [
        {
          "output_type": "execute_result",
          "data": {
            "text/plain": [
              "['Learning Balanced Trees for Large Scale Image Classification',\n",
              " 'An Evaluation of Deep Learning Methods for Small Object Detection',\n",
              " 'A Software Defined Networking Approach for Guaranteeing Delay in Wi-Fi Networks',\n",
              " 'Person re-identification with mutual re-ranking',\n",
              " 'Scalable Face Track Retrieval in Video Archives Using Bag-of-Faces Sparse Representation',\n",
              " 'Efficient large-scale multi-class image classification by learning balanced trees',\n",
              " 'Searching a specific person in a specific location using deep features',\n",
              " 'News Archive Exploration Combining Face Detection and Tracking with Network Visual Analytics',\n",
              " 'Cross-View Action Recognition by Projection-Based Augmentation',\n",
              " 'A Social Network Analysis of Face Tracking in News Video',\n",
              " 'A Combination of Spatial Pyramid and Inverted Index for Large-Scale Image Retrieval',\n",
              " 'Integrating Spatial Information into Inverted Index for Large-Scale Image Retrieval',\n",
              " 'Recommend-Me: recommending query regions for image search',\n",
              " 'NII-UIT: A Tool for Known Item Search by Sequential Pattern Filtering',\n",
              " 'Multimedia Event Detection Using Segment-Based Approach for Motion Feature',\n",
              " 'Violent scene detection using mid-level feature',\n",
              " 'Multimedia event detection using segment-based approach for motion feature',\n",
              " \"NII-KAORI-PERSON-SEARCH: A General Framework for Indexing and Retrieving People's Appearance in Large Video Archives\",\n",
              " 'Improving image categorization by using multiple instance learning with spatial relation',\n",
              " 'An efficient method for face retrieval from large video datasets']"
            ]
          },
          "metadata": {},
          "execution_count": 4
        }
      ]
    },
    {
      "cell_type": "code",
      "source": [
        "link_"
      ],
      "metadata": {
        "colab": {
          "base_uri": "https://localhost:8080/"
        },
        "id": "JhO6qnWxdf3R",
        "outputId": "a5392ab3-fc47-4938-c6e7-3a465bf69291"
      },
      "execution_count": null,
      "outputs": [
        {
          "output_type": "execute_result",
          "data": {
            "text/plain": [
              "['https://dl.acm.org/doi/10.1007/978-3-319-23234-8_1',\n",
              " 'https://dl.acm.org/doi/10.1155/2020/3189691',\n",
              " 'https://dl.acm.org/doi/10.1145/3368926.3369710',\n",
              " 'https://dl.acm.org/doi/10.1007/s40595-016-0093-x',\n",
              " 'https://dl.acm.org/doi/10.1109/TCSVT.2016.2538520',\n",
              " 'https://dl.acm.org/doi/10.1016/j.cviu.2016.10.008',\n",
              " 'https://dl.acm.org/doi/10.1145/3011077.3011138',\n",
              " 'https://dl.acm.org/doi/10.1145/2964284.2973823',\n",
              " 'https://dl.acm.org/doi/10.1007/978-3-319-29451-3_18',\n",
              " 'https://dl.acm.org/doi/10.1109/SITIS.2015.30',\n",
              " 'https://dl.acm.org/doi/10.4018/IJMDEM.2015040103',\n",
              " 'https://dl.acm.org/doi/10.1109/ISM.2014.63',\n",
              " 'https://dl.acm.org/doi/10.1145/2554850.2555005',\n",
              " 'https://dl.acm.org/doi/10.1007/978-3-319-04117-9_50',\n",
              " 'https://dl.acm.org/doi/10.1007/s11265-013-0825-4',\n",
              " 'https://dl.acm.org/doi/10.1145/2542050.2542070',\n",
              " 'https://dl.acm.org/doi/10.1007/978-3-642-34778-8_4',\n",
              " 'https://dl.acm.org/doi/10.1109/ICSC.2011.90',\n",
              " 'https://dl.acm.org/doi/10.5555/2042620.2042635',\n",
              " 'https://dl.acm.org/doi/10.1145/1816041.1816096']"
            ]
          },
          "metadata": {},
          "execution_count": 5
        }
      ]
    }
  ]
}