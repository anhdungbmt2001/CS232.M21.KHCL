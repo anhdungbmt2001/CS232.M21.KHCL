{
  "nbformat": 4,
  "nbformat_minor": 0,
  "metadata": {
    "colab": {
      "name": "GoogleImage_crawler.ipynb",
      "provenance": [],
      "collapsed_sections": [],
      "authorship_tag": "ABX9TyNyW69EX7DiaBgXowT+BPg2"
    },
    "kernelspec": {
      "name": "python3",
      "display_name": "Python 3"
    },
    "language_info": {
      "name": "python"
    }
  },
  "cells": [
    {
      "cell_type": "code",
      "source": [
        "from urllib.request import Request, urlopen, urlretrieve\n",
        "from bs4 import BeautifulSoup\n",
        "import os"
      ],
      "metadata": {
        "id": "VyPrSw70mO0i"
      },
      "execution_count": null,
      "outputs": []
    },
    {
      "cell_type": "code",
      "source": [
        "# Search keyword: \"AI\"\n",
        "url = \"https://www.google.com.vn/search?q=AI&hl=vi&tbm=isch&source=hp&biw=1536&bih=746&ei=BAFPYsrnIpTAhwO667LgBg&iflsig=AHkkrS4AAAAAYk8PFNgVrEPOFRZ5wyN_1wndvbQCP589&ved=0ahUKEwjK-Z-KoIL3AhUU4GEKHbq1DGwQ4dUDCAc&uact=5&oq=AI&gs_lcp=CgNpbWcQAzIICAAQgAQQsQMyCAgAEIAEELEDMggIABCABBCxAzIFCAAQgAQyCAgAEIAEELEDMggIABCxAxCDATIICAAQgAQQsQMyCAgAEIAEELEDMggIABCABBCxAzIICAAQgAQQsQM6CwgAEIAEELEDEIMBUABYsAFguAZoAHAAeACAAUuIAYwBkgEBMpgBAKABAaoBC2d3cy13aXotaW1n&sclient=img\"\n",
        "req = Request(url, headers={'User-Agent': 'Mozilla/5.0'})\n",
        "html = urlopen(req)\n",
        "soup = BeautifulSoup(html, 'html')"
      ],
      "metadata": {
        "id": "YZFxJhWNqxV2"
      },
      "execution_count": null,
      "outputs": []
    },
    {
      "cell_type": "code",
      "source": [
        "img_url = []\n",
        "for i in soup.find_all('img', class_=\"yWs4tf\"):\n",
        "    img_url.append(i.get('src'))"
      ],
      "metadata": {
        "id": "cxfu9OzrtnbC"
      },
      "execution_count": null,
      "outputs": []
    },
    {
      "cell_type": "code",
      "source": [
        "os.mkdir('/content/results')"
      ],
      "metadata": {
        "id": "WuB6u0VEtrbq"
      },
      "execution_count": null,
      "outputs": []
    },
    {
      "cell_type": "code",
      "source": [
        "for i in range(len(img_url)):\n",
        "    file_name = str(i) + '.jpg'\n",
        "    urlretrieve(img_url[i], os.path.join('/content/results', file_name))"
      ],
      "metadata": {
        "id": "n8L4CqZxuDWC"
      },
      "execution_count": null,
      "outputs": []
    }
  ]
}